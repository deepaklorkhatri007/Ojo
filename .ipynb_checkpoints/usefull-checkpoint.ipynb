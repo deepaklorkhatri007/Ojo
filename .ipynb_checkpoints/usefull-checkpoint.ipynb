{
 "cells": [
  {
   "cell_type": "markdown",
   "metadata": {},
   "source": [
    "some usefull things"
   ]
  },
  {
   "cell_type": "code",
   "execution_count": null,
   "metadata": {},
   "outputs": [],
   "source": [
    "from PIL import Image, ImageEnhance, ImageFilter\n",
    "\n",
    "im = Image.open(\"assets/datainv.png\") # the second one \n",
    "im = im.filter(ImageFilter.MedianFilter())\n",
    "# im = ImageEnhance.Contrast(im).enhance(1)\n",
    "im = im.convert('1')\n",
    "im.save('temp2.jpg')\n",
    "text = pytesseract.image_to_string(Image.open('temp2.jpg'))\n",
    "print(text)"
   ]
  }
 ],
 "metadata": {
  "kernelspec": {
   "display_name": "Python 3",
   "language": "python",
   "name": "python3"
  },
  "language_info": {
   "codemirror_mode": {
    "name": "ipython",
    "version": 3
   },
   "file_extension": ".py",
   "mimetype": "text/x-python",
   "name": "python",
   "nbconvert_exporter": "python",
   "pygments_lexer": "ipython3",
   "version": "3.7.2"
  }
 },
 "nbformat": 4,
 "nbformat_minor": 2
}
