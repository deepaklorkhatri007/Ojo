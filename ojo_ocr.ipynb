{
 "cells": [
  {
   "cell_type": "code",
   "execution_count": 1,
   "metadata": {},
   "outputs": [],
   "source": [
    "# import the necessary packages\n",
    "from PIL import Image\n",
    "import pytesseract\n",
    "import argparse\n",
    "import cv2\n",
    "import os"
   ]
  },
  {
   "cell_type": "code",
   "execution_count": 2,
   "metadata": {},
   "outputs": [
    {
     "data": {
      "text/plain": [
       "True"
      ]
     },
     "execution_count": 2,
     "metadata": {},
     "output_type": "execute_result"
    }
   ],
   "source": [
    "# load the example image and convert it to grayscale\n",
    "image = cv2.imread(\"assets/data.png\")\n",
    "gray = cv2.cvtColor(image, cv2.COLOR_BGR2GRAY)\n",
    "\n",
    "# check to see if we should apply thresholding to preprocess the\n",
    "# image:\n",
    "gray = cv2.threshold(gray, 0, 255, cv2.THRESH_BINARY | cv2.THRESH_OTSU)[1]\n",
    "\n",
    "# make a check to see if median blurring should be done to remove\n",
    "# noise\n",
    "gray = cv2.medianBlur(gray, 3)\n",
    "\n",
    "# write the grayscale image to disk as a temporary file so we can\n",
    "# apply OCR to it\n",
    "\n",
    "filename = \"output.png\"\n",
    "cv2.imwrite(filename, gray)"
   ]
  },
  {
   "cell_type": "code",
   "execution_count": 3,
   "metadata": {},
   "outputs": [
    {
     "name": "stdout",
     "output_type": "stream",
     "text": [
      "['But it’s not for everyone or every company or every situation.', 'The above sections are intended to help you understand the thought process of the company.', '', 'My personal thoughts? For the right situation, when done well, it’s a reasonable judge of someone’s', 'problem-solving skills, in that people who do well tend to be fairly smart.', '', 'However, it’s often not done very well.You have bad interviewers or people who just ask bad questions.', '', \"it’s also not appropriate for all companies. Some companies should value someone's prior experience more\", 'or need skills with particular technologies These sorts ofquestions don’t put much weight on that.', '', 'it also won‘t measure someone’s work ethic or ability to focus. Then again, almost no interview process can', 'really evaluate this.', '', 'This is not a perfect process by any means, but what is? All interview processes have their downsides', '', 'I’ll leave you with this: it is what it is, so let’s do the best we can with it.']\n"
     ]
    }
   ],
   "source": [
    "# load the image as a PIL/Pillow image, apply OCR, and then delete\n",
    "# the temporary file\n",
    "text = pytesseract.image_to_string(Image.open(filename))\n",
    "text = text.split('\\n')\n",
    "os.remove(filename)\n",
    "print(text)"
   ]
  },
  {
   "cell_type": "code",
   "execution_count": null,
   "metadata": {},
   "outputs": [],
   "source": [
    "from gtts import gTTS\n",
    "import os\n",
    "for line in text:\n",
    "    if line:\n",
    "        tts = gTTS(text=repr(line), lang='en')\n",
    "        tts.save(\"text.mp3\")\n",
    "        os.system(\"mpg123 text.mp3\")\n",
    "        os.system(\"rm text.mp3\")"
   ]
  }
 ],
 "metadata": {
  "kernelspec": {
   "display_name": "Python 3",
   "language": "python",
   "name": "python3"
  },
  "language_info": {
   "codemirror_mode": {
    "name": "ipython",
    "version": 3
   },
   "file_extension": ".py",
   "mimetype": "text/x-python",
   "name": "python",
   "nbconvert_exporter": "python",
   "pygments_lexer": "ipython3",
   "version": "3.7.2"
  }
 },
 "nbformat": 4,
 "nbformat_minor": 2
}
